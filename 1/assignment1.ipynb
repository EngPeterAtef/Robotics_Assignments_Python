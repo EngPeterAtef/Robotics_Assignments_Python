{
 "cells": [
  {
   "cell_type": "markdown",
   "metadata": {},
   "source": [
    "## Imports\n"
   ]
  },
  {
   "cell_type": "code",
   "execution_count": 160,
   "metadata": {},
   "outputs": [],
   "source": [
    "import cv2\n",
    "from typing import Tuple, List\n",
    "from math import sin, cos, pi\n",
    "from skimage.draw import line as line_points\n",
    "import numpy as np\n",
    "from numpy.linalg import norm"
   ]
  },
  {
   "cell_type": "markdown",
   "metadata": {},
   "source": [
    "## Constants\n"
   ]
  },
  {
   "cell_type": "code",
   "execution_count": 161,
   "metadata": {},
   "outputs": [],
   "source": [
    "RED = (0, 0, 255)\n",
    "GREEN = (0, 255, 0)\n",
    "BLUE = (255, 0, 0)\n",
    "BLACK = (0, 0, 0)\n",
    "RAD2DEG = 180 / pi\n",
    "DEG2RAD = pi / 180\n",
    "FILL = -1\n",
    "MAX_RANGE = 1200\n",
    "SENSOR_ANGLE = 250  # (-125,125)\n",
    "SENSOR_STEP = 2"
   ]
  },
  {
   "cell_type": "markdown",
   "metadata": {},
   "source": [
    "## Functions\n"
   ]
  },
  {
   "cell_type": "code",
   "execution_count": 162,
   "metadata": {},
   "outputs": [],
   "source": [
    "def convert_from_raduis_to_cartesian(\n",
    "    x: int, y: int, r: float, theta: float\n",
    ") -> Tuple[float, float]:\n",
    "    \"\"\"\n",
    "    Convert from raduis and theta to cartesian coordinates\n",
    "    \"\"\"\n",
    "    x2 = int(x + r * cos(theta * DEG2RAD))\n",
    "    y2 = int(y + r * sin(theta * DEG2RAD))\n",
    "\n",
    "    return (x2, y2)"
   ]
  },
  {
   "cell_type": "markdown",
   "metadata": {},
   "source": [
    "## Requirement 1\n"
   ]
  },
  {
   "cell_type": "code",
   "execution_count": 165,
   "metadata": {},
   "outputs": [],
   "source": [
    "def req1(image_path: str, x_robot: int, y_robot: int, theta_robot: int):\n",
    "    # read the image using opencv\n",
    "    img = cv2.imread(image_path)\n",
    "    # draw red cricle at the robot position which is (x,y,theta) = (350,185,200)\n",
    "    cv2.circle(img, (x_robot, y_robot), 10, RED, FILL)\n",
    "    # draw the robot direction\n",
    "    cv2.line(\n",
    "        img,\n",
    "        (350, 185),\n",
    "        convert_from_raduis_to_cartesian(350, 185, 10, theta_robot),\n",
    "        BLUE,\n",
    "        thickness=2,\n",
    "    )\n",
    "    # open the measurements file\n",
    "    # write the position of the robot in txt file\n",
    "    file = open(\"observations.txt\", \"w\")\n",
    "    file.write(\n",
    "        f\"Robot position: x= {str(x_robot)} , y= {str(y_robot)} , theta= {str(theta_robot)}\"\n",
    "    )\n",
    "\n",
    "    # write meaeurements in txt file\n",
    "    file.write(\"\\nObservations: \")\n",
    "    file.write(\"\\nAngle \\t Distance(cm) \\t Endpoint\")\n",
    "\n",
    "    # create array to save the distance at each angle\n",
    "    distances = np.zeros((SENSOR_ANGLE // SENSOR_STEP) + 1)\n",
    "\n",
    "    # list of the locations of the endpoints at each angle\n",
    "    endpoints = []\n",
    "    # loop over the sensor angles\n",
    "    for ind, angle in enumerate(\n",
    "        range(\n",
    "            theta_robot - (SENSOR_ANGLE // SENSOR_STEP),\n",
    "            theta_robot + (SENSOR_ANGLE // SENSOR_STEP) + 1,\n",
    "            SENSOR_STEP,\n",
    "        )\n",
    "    ):\n",
    "        # get the end of the ray\n",
    "        x_max, y_max = convert_from_raduis_to_cartesian(\n",
    "            x_robot, y_robot, MAX_RANGE // 4, angle\n",
    "        )\n",
    "        # get all the points in the line\n",
    "        points_in_line = line_points(\n",
    "            x_robot,\n",
    "            y_robot,\n",
    "            x_max,\n",
    "            y_max,\n",
    "        )\n",
    "        x_points = points_in_line[0]\n",
    "        y_points = points_in_line[1]\n",
    "        # get the final point in the line\n",
    "        x_final = x_points[0]\n",
    "        y_final = y_points[0]\n",
    "        # loop over the points in the line\n",
    "        for i in range(len(x_points)):\n",
    "            x = x_points[i]\n",
    "            y = y_points[i]\n",
    "            if all(img[y, x] == BLACK):\n",
    "                break\n",
    "            else:\n",
    "                x_final = x\n",
    "                y_final = y\n",
    "\n",
    "        endpoint = (x_final, y_final)\n",
    "        # draw a line from the robot to the final point\n",
    "        cv2.line(\n",
    "            img,\n",
    "            (x_robot, y_robot),\n",
    "            endpoint,\n",
    "            GREEN,\n",
    "            thickness=2,\n",
    "        )\n",
    "        # calculate the distance between the robot and the endpoint\n",
    "        distance = norm(np.array((x_robot, y_robot)) - np.array(endpoint))\n",
    "        # save the distance in the array\n",
    "        distances[ind] = min(MAX_RANGE, distance * 4)\n",
    "        endpoints.append(endpoint)\n",
    "\n",
    "        # write meaeurements in txt file\n",
    "        file.write(f\"\\n {str(angle)} \\t {str(distances[ind])} \\t {str(endpoint)}\")\n",
    "    # save the image\n",
    "    cv2.imwrite(\"req1.jpg\", img)\n",
    "    # close the file\n",
    "    file.close()\n",
    "    # show the image\n",
    "    # cv2.imshow(\"image\", img)\n",
    "    # cv2.waitKey(0)\n",
    "    # cv2.destroyAllWindows()\n",
    "\n",
    "    return distances, np.array(endpoints)"
   ]
  },
  {
   "cell_type": "code",
   "execution_count": 166,
   "metadata": {},
   "outputs": [],
   "source": [
    "distances, endpoints = req1(\"./Map.jpg\", 350, 185, 200)"
   ]
  },
  {
   "cell_type": "markdown",
   "metadata": {},
   "source": [
    "## Requirement 2\n"
   ]
  },
  {
   "cell_type": "code",
   "execution_count": 159,
   "metadata": {},
   "outputs": [],
   "source": [
    "def req2(image_path: str, actual_measures: List[float], variance: float = 1):\n",
    "    \"\"\"\n",
    "    actual_measures: List[float]: Actual measures of the robot\n",
    "    \"\"\""
   ]
  },
  {
   "cell_type": "code",
   "execution_count": 158,
   "metadata": {},
   "outputs": [],
   "source": [
    "req2(\"./Map.jpg\", distances)"
   ]
  },
  {
   "cell_type": "code",
   "execution_count": null,
   "metadata": {},
   "outputs": [],
   "source": []
  }
 ],
 "metadata": {
  "kernelspec": {
   "display_name": "base",
   "language": "python",
   "name": "python3"
  },
  "language_info": {
   "codemirror_mode": {
    "name": "ipython",
    "version": 3
   },
   "file_extension": ".py",
   "mimetype": "text/x-python",
   "name": "python",
   "nbconvert_exporter": "python",
   "pygments_lexer": "ipython3",
   "version": "3.11.5"
  }
 },
 "nbformat": 4,
 "nbformat_minor": 2
}
